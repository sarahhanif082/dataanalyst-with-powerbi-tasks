{
 "cells": [
  {
   "cell_type": "code",
   "execution_count": 3,
   "id": "0d9fc784-236b-48dc-859e-62d95e80e544",
   "metadata": {},
   "outputs": [
    {
     "name": "stdout",
     "output_type": "stream",
     "text": [
      "✅ Excel file 'random_dataset.xlsx' created.\n",
      "\n",
      "📊 Original Dataset (first 5 rows):\n",
      "    Feature1   Feature2    Feature3\n",
      "0  54.967142  22.923146  107.155747\n",
      "1  48.617357  27.896773  111.215691\n",
      "2  56.476885  28.286427  121.661025\n",
      "3  65.230299  25.988614  121.076041\n",
      "4  47.658466  29.193571   72.446613\n",
      "\n",
      "🚨 Outliers Detected:\n",
      "    Feature1   Feature2    Feature3\n",
      "9   55.42560  29.627770  177.054630\n",
      "62  38.93665  35.792978   35.174653\n"
     ]
    }
   ],
   "source": [
    "import pandas as pd\n",
    "import numpy as np\n",
    "from scipy import stats\n",
    "\n",
    "# Step 1: Generate a random dataset\n",
    "np.random.seed(42)  # for reproducibility\n",
    "data = {\n",
    "    'Feature1': np.random.normal(50, 10, 100),     # Mean=50, SD=10\n",
    "    'Feature2': np.random.normal(30, 5, 100),      # Mean=30, SD=5\n",
    "    'Feature3': np.random.normal(100, 20, 100),    # Mean=100, SD=20\n",
    "}\n",
    "\n",
    "df = pd.DataFrame(data)\n",
    "excel_filename = \"random_dataset.xlsx\"\n",
    "df.to_excel(excel_filename, index=False)\n",
    "print(f\"✅ Excel file '{excel_filename}' created.\")\n",
    "\n",
    "df_loaded = pd.read_excel(excel_filename)\n",
    "\n",
    "# Step 4: Detect outliers using Z-score\n",
    "z_scores = np.abs(stats.zscore(df_loaded))  # calculate z-scores\n",
    "threshold = 3  # typically Z > 3 is considered outlier\n",
    "outliers = (z_scores > threshold)\n",
    "\n",
    "# Step 5: Display outliers\n",
    "outlier_rows = df_loaded[(outliers).any(axis=1)]\n",
    "print(\"\\n📊 Original Dataset (first 5 rows):\")\n",
    "print(df_loaded.head())\n",
    "\n",
    "print(\"\\n🚨 Outliers Detected:\")\n",
    "print(outlier_rows if not outlier_rows.empty else \"No outliers found.\")\n"
   ]
  },
  {
   "cell_type": "code",
   "execution_count": 2,
   "id": "9f182984",
   "metadata": {},
   "outputs": [
    {
     "name": "stdout",
     "output_type": "stream",
     "text": [
      "Collecting openpyxl\n",
      "  Downloading openpyxl-3.1.5-py2.py3-none-any.whl (250 kB)\n",
      "     ---------------------------------------- 0.0/250.9 kB ? eta -:--:--\n",
      "     ---- ---------------------------------- 30.7/250.9 kB 1.4 MB/s eta 0:00:01\n",
      "     ---- ---------------------------------- 30.7/250.9 kB 1.4 MB/s eta 0:00:01\n",
      "     ------ ------------------------------ 41.0/250.9 kB 245.8 kB/s eta 0:00:01\n",
      "     ------------ ------------------------ 81.9/250.9 kB 512.0 kB/s eta 0:00:01\n",
      "     ------------- ----------------------- 92.2/250.9 kB 479.1 kB/s eta 0:00:01\n",
      "     ---------------- ------------------- 112.6/250.9 kB 409.6 kB/s eta 0:00:01\n",
      "     ----------------- ------------------ 122.9/250.9 kB 425.1 kB/s eta 0:00:01\n",
      "     -------------------------------- --- 225.3/250.9 kB 626.9 kB/s eta 0:00:01\n",
      "     ------------------------------------ 250.9/250.9 kB 617.1 kB/s eta 0:00:00\n",
      "Collecting et-xmlfile\n",
      "  Downloading et_xmlfile-2.0.0-py3-none-any.whl (18 kB)\n",
      "Installing collected packages: et-xmlfile, openpyxl\n",
      "Successfully installed et-xmlfile-2.0.0 openpyxl-3.1.5\n"
     ]
    },
    {
     "name": "stderr",
     "output_type": "stream",
     "text": [
      "\n",
      "[notice] A new release of pip is available: 23.0.1 -> 25.1.1\n",
      "[notice] To update, run: python.exe -m pip install --upgrade pip\n"
     ]
    }
   ],
   "source": [
    "!pip install openpyxl\n"
   ]
  },
  {
   "cell_type": "code",
   "execution_count": 4,
   "id": "7b542890-eb6e-47dd-8e5f-58ef9d76ff8e",
   "metadata": {},
   "outputs": [
    {
     "name": "stdout",
     "output_type": "stream",
     "text": [
      "📁 Current Working Directory: c:\\Users\\dell\\Desktop\\numl task\n"
     ]
    }
   ],
   "source": [
    "import os\n",
    "print(\"📁 Current Working Directory:\", os.getcwd())\n"
   ]
  },
  {
   "cell_type": "code",
   "execution_count": 5,
   "id": "42e282ab-264c-421b-9d99-a679b1994b51",
   "metadata": {},
   "outputs": [
    {
     "name": "stdout",
     "output_type": "stream",
     "text": [
      "✅ Excel file with nulls saved at: c:\\Users\\dell\\Desktop\\numl task\n",
      "\n",
      "📋 Original Data with Nulls:\n",
      "    Age   Salary Department\n",
      "0  26.0  46023.0         HR\n",
      "1  39.0  71090.0    Finance\n",
      "2   NaN  31685.0         IT\n",
      "3  30.0  30769.0         HR\n",
      "4  27.0  32433.0        NaN\n",
      "5  26.0      NaN         IT\n",
      "6  38.0  67819.0    Finance\n",
      "7  30.0  69188.0         HR\n",
      "8  30.0  47568.0        NaN\n",
      "9  23.0  49769.0         IT\n",
      "\n",
      "🔄 Data After Filling Nulls (Mean/Mode):\n",
      "         Age        Salary Department\n",
      "0  26.000000  46023.000000         HR\n",
      "1  39.000000  71090.000000    Finance\n",
      "2  29.888889  31685.000000         IT\n",
      "3  30.000000  30769.000000         HR\n",
      "4  27.000000  32433.000000         HR\n",
      "5  26.000000  49593.777778         IT\n",
      "6  38.000000  67819.000000    Finance\n",
      "7  30.000000  69188.000000         HR\n",
      "8  30.000000  47568.000000         HR\n",
      "9  23.000000  49769.000000         IT\n",
      "\n",
      "✅ Cleaned dataset saved as 'dataset_filled.xlsx'\n"
     ]
    }
   ],
   "source": [
    "import pandas as pd\n",
    "import numpy as np\n",
    "import os\n",
    "\n",
    "# Step 1: Generate dataset with null values\n",
    "np.random.seed(42)\n",
    "data = {\n",
    "    'Age': np.random.randint(20, 40, size=10).astype(float),\n",
    "    'Salary': np.random.randint(30000, 80000, size=10).astype(float),\n",
    "    'Department': ['HR', 'Finance', 'IT', 'HR', np.nan, 'IT', 'Finance', 'HR', np.nan, 'IT']\n",
    "}\n",
    "\n",
    "# Introduce some NaN values\n",
    "data['Age'][2] = np.nan\n",
    "data['Salary'][5] = np.nan\n",
    "\n",
    "df = pd.DataFrame(data)\n",
    "\n",
    "# Step 2: Save to Excel\n",
    "excel_filename = \"dataset_with_nulls.xlsx\"\n",
    "df.to_excel(excel_filename, index=False)\n",
    "print(\"✅ Excel file with nulls saved at:\", os.getcwd())\n",
    "\n",
    "# Step 3: Read the Excel back\n",
    "df = pd.read_excel(excel_filename)\n",
    "print(\"\\n📋 Original Data with Nulls:\")\n",
    "print(df)\n",
    "\n",
    "# Step 4: Fill nulls\n",
    "df_mean_filled = df.copy()\n",
    "df_mean_filled['Age'] = df_mean_filled['Age'].fillna(df_mean_filled['Age'].mean())\n",
    "df_mean_filled['Salary'] = df_mean_filled['Salary'].fillna(df_mean_filled['Salary'].mean())\n",
    "df_mean_filled['Department'] = df_mean_filled['Department'].fillna(df_mean_filled['Department'].mode()[0])\n",
    "\n",
    "print(\"\\n🔄 Data After Filling Nulls (Mean/Mode):\")\n",
    "print(df_mean_filled)\n",
    "\n",
    "# Optional: Save the cleaned data back to Excel\n",
    "cleaned_excel_filename = \"dataset_filled.xlsx\"\n",
    "df_mean_filled.to_excel(cleaned_excel_filename, index=False)\n",
    "print(f\"\\n✅ Cleaned dataset saved as '{cleaned_excel_filename}'\")\n",
    "\n"
   ]
  },
  {
   "cell_type": "code",
   "execution_count": 16,
   "id": "bd482ed7-924b-4bb8-b1df-2687e428f129",
   "metadata": {},
   "outputs": [
    {
     "name": "stdout",
     "output_type": "stream",
     "text": [
      "Original Data: [ 10  12  11  13  14  12 100]\n",
      "Z-scores:      [0.47284084 0.40794112 0.44039098 0.37549125 0.34304139 0.40794112\n",
      " 2.44764669]\n",
      "Outliers:      []\n"
     ]
    }
   ],
   "source": [
    "import numpy as np\n",
    "from scipy import stats\n",
    "\n",
    "# Sample data (1D array)\n",
    "data = [10, 12, 11, 13, 14, 12, 100]  \n",
    "\n",
    "# Convert to NumPy array\n",
    "arr = np.array(data)\n",
    "\n",
    "# Step 1: Calculate Z-scores\n",
    "z_scores = np.abs(stats.zscore(arr))\n",
    "\n",
    "# Step 2: Define threshold\n",
    "threshold = 3\n",
    "\n",
    "# Step 3: Detect outliers\n",
    "outliers = arr[z_scores > threshold]\n",
    "\n",
    "# Step 4: Show results\n",
    "print(\"Original Data:\", arr)\n",
    "print(\"Z-scores:     \", z_scores)\n",
    "print(\"Outliers:     \", outliers)\n"
   ]
  },
  {
   "cell_type": "code",
   "execution_count": 14,
   "id": "9f040d99-2cc3-4194-8f27-7c6ff3b4a777",
   "metadata": {},
   "outputs": [
    {
     "name": "stdout",
     "output_type": "stream",
     "text": [
      "Original Data: [  10   11   10   12   11 1000]\n",
      "Z-scores:      [0.44938289 0.44667031 0.44938289 0.44395774 0.44667031 2.23606414]\n",
      "Outliers:      [1000]\n"
     ]
    }
   ],
   "source": [
    "import numpy as np\n",
    "from scipy import stats\n",
    "\n",
    "# Simple array with a clear outlier\n",
    "data = [10, 11, 10, 12, 11, 1000]  # 1000 is a big outlier\n",
    "\n",
    "# Convert to NumPy array\n",
    "arr = np.array(data)\n",
    "\n",
    "# Step 1: Calculate Z-scores\n",
    "z_scores = np.abs(stats.zscore(arr))\n",
    "\n",
    "# Step 2: Define threshold for outlier\n",
    "threshold = 2  # Set to 2 to catch 1000 as an outlier in small data\n",
    "\n",
    "# Step 3: Find indices where z-score > threshold\n",
    "outlier_indices = np.where(z_scores > threshold)\n",
    "\n",
    "# Step 4: Show results\n",
    "print(\"Original Data:\", arr)\n",
    "print(\"Z-scores:     \", z_scores)\n",
    "print(\"Outliers:     \", arr[outlier_indices])\n"
   ]
  },
  {
   "cell_type": "code",
   "execution_count": 6,
   "id": "990c355c-1bca-42c7-b052-134881b52f5d",
   "metadata": {},
   "outputs": [
    {
     "name": "stdout",
     "output_type": "stream",
     "text": [
      "✅ Excel file with nulls saved at: c:\\Users\\dell\\Desktop\\numl task\n",
      "\n",
      "📋 Original Data with Nulls:\n",
      "    Age   Salary Department\n",
      "0  26.0  46023.0         HR\n",
      "1  39.0  71090.0    Finance\n",
      "2   NaN  31685.0         IT\n",
      "3  30.0  30769.0         HR\n",
      "4  27.0  32433.0        NaN\n",
      "5  26.0      NaN         IT\n",
      "6  38.0  67819.0    Finance\n",
      "7  30.0  69188.0         HR\n",
      "8  30.0  47568.0        NaN\n",
      "9  23.0  49769.0         IT\n",
      "\n",
      "🔄 Data After Filling Nulls (Mean/Mode):\n",
      "         Age        Salary Department\n",
      "0  26.000000  46023.000000         HR\n",
      "1  39.000000  71090.000000    Finance\n",
      "2  29.888889  31685.000000         IT\n",
      "3  30.000000  30769.000000         HR\n",
      "4  27.000000  32433.000000         HR\n",
      "5  26.000000  49593.777778         IT\n",
      "6  38.000000  67819.000000    Finance\n",
      "7  30.000000  69188.000000         HR\n",
      "8  30.000000  47568.000000         HR\n",
      "9  23.000000  49769.000000         IT\n",
      "\n",
      "🚨 Outliers Detected (IQR method):\n",
      "    Age   Salary Department\n",
      "1  39.0  71090.0    Finance\n",
      "6  38.0  67819.0    Finance\n"
     ]
    },
    {
     "data": {
      "image/png": "[encoded data removed]",
      "text/plain": [
       "<Figure size 1200x500 with 2 Axes>"
      ]
     },
     "metadata": {},
     "output_type": "display_data"
    },
    {
     "name": "stdout",
     "output_type": "stream",
     "text": [
      "\n",
      "✅ Cleaned dataset saved as 'dataset_filled.xlsx'\n"
     ]
    }
   ],
   "source": [
    "import pandas as pd\n",
    "import numpy as np\n",
    "import matplotlib.pyplot as plt\n",
    "import os\n",
    "\n",
    "# Step 1: Generate dataset with null values\n",
    "np.random.seed(42)\n",
    "data = {\n",
    "    'Age': np.random.randint(20, 40, size=10).astype(float),\n",
    "    'Salary': np.random.randint(30000, 80000, size=10).astype(float),\n",
    "    'Department': ['HR', 'Finance', 'IT', 'HR', np.nan, 'IT', 'Finance', 'HR', np.nan, 'IT']\n",
    "}\n",
    "\n",
    "# Introduce some NaN values\n",
    "data['Age'][2] = np.nan\n",
    "data['Salary'][5] = np.nan\n",
    "\n",
    "df = pd.DataFrame(data)\n",
    "\n",
    "# Step 2: Save to Excel\n",
    "excel_filename = \"dataset_with_nulls.xlsx\"\n",
    "df.to_excel(excel_filename, index=False)\n",
    "print(\"✅ Excel file with nulls saved at:\", os.getcwd())\n",
    "\n",
    "# Step 3: Read the Excel back\n",
    "df = pd.read_excel(excel_filename)\n",
    "print(\"\\n📋 Original Data with Nulls:\")\n",
    "print(df)\n",
    "\n",
    "# Step 4: Fill nulls using mean/mode\n",
    "df_filled = df.copy()\n",
    "df_filled['Age'] = df_filled['Age'].fillna(df_filled['Age'].mean())\n",
    "df_filled['Salary'] = df_filled['Salary'].fillna(df_filled['Salary'].mean())\n",
    "df_filled['Department'] = df_filled['Department'].fillna(df_filled['Department'].mode()[0])\n",
    "\n",
    "print(\"\\n🔄 Data After Filling Nulls (Mean/Mode):\")\n",
    "print(df_filled)\n",
    "\n",
    "# Step 5: Detect outliers using **IQR method** (Quartile method)\n",
    "Q1 = df_filled[['Age', 'Salary']].quantile(0.25)\n",
    "Q3 = df_filled[['Age', 'Salary']].quantile(0.75)\n",
    "IQR = Q3 - Q1\n",
    "\n",
    "# Define outliers as values outside [Q1 - 1.5*IQR, Q3 + 1.5*IQR]\n",
    "outliers = ((df_filled[['Age', 'Salary']] < (Q1 - 1.5 * IQR)) | (df_filled[['Age', 'Salary']] > (Q3 + 1.5 * IQR)))\n",
    "\n",
    "outlier_rows = df_filled[outliers.any(axis=1)]\n",
    "print(\"\\n🚨 Outliers Detected (IQR method):\")\n",
    "print(outlier_rows if not outlier_rows.empty else \"No outliers found.\")\n",
    "\n",
    "# Step 6: Plotting Original vs Cleaned data\n",
    "plt.figure(figsize=(12, 5))\n",
    "\n",
    "# Original Age and Salary with NaNs\n",
    "plt.subplot(1, 2, 1)\n",
    "plt.scatter(df.index, df['Age'], label='Age')\n",
    "plt.scatter(df.index, df['Salary'], label='Salary')\n",
    "plt.title(\"Original Data with Nulls\")\n",
    "plt.xlabel(\"Index\")\n",
    "plt.ylabel(\"Value\")\n",
    "plt.legend()\n",
    "\n",
    "# Cleaned Age and Salary (filled nulls)\n",
    "plt.subplot(1, 2, 2)\n",
    "plt.scatter(df_filled.index, df_filled['Age'], label='Age')\n",
    "plt.scatter(df_filled.index, df_filled['Salary'], label='Salary')\n",
    "plt.title(\"Cleaned Data (Nulls Filled)\")\n",
    "plt.xlabel(\"Index\")\n",
    "plt.ylabel(\"Value\")\n",
    "plt.legend()\n",
    "\n",
    "plt.tight_layout()\n",
    "plt.show()\n",
    "\n",
    "# Step 7: Save the cleaned data back to Excel\n",
    "cleaned_excel_filename = \"dataset_filled.xlsx\"\n",
    "df_filled.to_excel(cleaned_excel_filename, index=False)\n",
    "print(f\"\\n✅ Cleaned dataset saved as '{cleaned_excel_filename}'\")\n"
   ]
  }
 ],
 "metadata": {
  "kernelspec": {
   "display_name": "Python 3",
   "language": "python",
   "name": "python3"
  },
  "language_info": {
   "codemirror_mode": {
    "name": "ipython",
    "version": 3
   },
   "file_extension": ".py",
   "mimetype": "text/x-python",
   "name": "python",
   "nbconvert_exporter": "python",
   "pygments_lexer": "ipython3",
   "version": "3.10.11"
  }
 },
 "nbformat": 4,
 "nbformat_minor": 5
}
