{
 "cells": [
  {
   "cell_type": "code",
   "execution_count": 1,
   "id": "0d9fc784-236b-48dc-859e-62d95e80e544",
   "metadata": {},
   "outputs": [
    {
     "name": "stdout",
     "output_type": "stream",
     "text": [
      "✅ CSV file 'random_dataset.csv' created.\n",
      "\n",
      "📊 Original Dataset (first 5 rows):\n",
      "    Feature1   Feature2    Feature3\n",
      "0  54.967142  22.923146  107.155747\n",
      "1  48.617357  27.896773  111.215691\n",
      "2  56.476885  28.286427  121.661025\n",
      "3  65.230299  25.988614  121.076041\n",
      "4  47.658466  29.193571   72.446613\n",
      "\n",
      "🚨 Outliers Detected:\n",
      "    Feature1   Feature2    Feature3\n",
      "9   55.42560  29.627770  177.054630\n",
      "62  38.93665  35.792978   35.174653\n"
     ]
    }
   ],
   "source": [
    "import pandas as pd\n",
    "import numpy as np\n",
    "from scipy import stats\n",
    "\n",
    "# Step 1: Generate a random dataset\n",
    "np.random.seed(42)  # for reproducibility\n",
    "data = {\n",
    "    'Feature1': np.random.normal(50, 10, 100),     # Mean=50, SD=10\n",
    "    'Feature2': np.random.normal(30, 5, 100),      # Mean=30, SD=5\n",
    "    'Feature3': np.random.normal(100, 20, 100),    # Mean=100, SD=20\n",
    "}\n",
    "\n",
    "df = pd.DataFrame(data)\n",
    "\n",
    "# Step 2: Save dataset to CSV\n",
    "df.to_csv(\"random_dataset.csv\", index=False)\n",
    "print(\"✅ CSV file 'random_dataset.csv' created.\")\n",
    "\n",
    "# Step 3: Detect outliers using Z-score\n",
    "z_scores = np.abs(stats.zscore(df))  # calculate z-scores\n",
    "threshold = 3  # typically Z > 3 is considered outlier\n",
    "outliers = (z_scores > threshold)\n",
    "\n",
    "# Step 4: Display outliers\n",
    "outlier_rows = df[(outliers).any(axis=1)]\n",
    "print(\"\\n📊 Original Dataset (first 5 rows):\")\n",
    "print(df.head())\n",
    "\n",
    "print(\"\\n🚨 Outliers Detected:\")\n",
    "print(outlier_rows if not outlier_rows.empty else \"No outliers found.\")\n"
   ]
  },
  {
   "cell_type": "code",
   "execution_count": 4,
   "id": "7b542890-eb6e-47dd-8e5f-58ef9d76ff8e",
   "metadata": {},
   "outputs": [
    {
     "name": "stdout",
     "output_type": "stream",
     "text": [
      "📁 Current Working Directory: C:\\Users\\DELL\n"
     ]
    }
   ],
   "source": [
    "import os\n",
    "print(\"📁 Current Working Directory:\", os.getcwd())\n"
   ]
  },
  {
   "cell_type": "code",
   "execution_count": 6,
   "id": "42e282ab-264c-421b-9d99-a679b1994b51",
   "metadata": {},
   "outputs": [
    {
     "name": "stdout",
     "output_type": "stream",
     "text": [
      "✅ CSV file with nulls saved at: C:\\Users\\DELL\n",
      "\n",
      "📋 Original Data with Nulls:\n",
      "    Age   Salary Department\n",
      "0  26.0  46023.0         HR\n",
      "1  39.0  71090.0    Finance\n",
      "2   NaN  31685.0         IT\n",
      "3  30.0  30769.0         HR\n",
      "4  27.0  32433.0        NaN\n",
      "5  26.0      NaN         IT\n",
      "6  38.0  67819.0    Finance\n",
      "7  30.0  69188.0         HR\n",
      "8  30.0  47568.0        NaN\n",
      "9  23.0  49769.0         IT\n",
      "\n",
      "🔄 Data After Filling Nulls (Mean/Mode):\n",
      "         Age        Salary Department\n",
      "0  26.000000  46023.000000         HR\n",
      "1  39.000000  71090.000000    Finance\n",
      "2  29.888889  31685.000000         IT\n",
      "3  30.000000  30769.000000         HR\n",
      "4  27.000000  32433.000000         HR\n",
      "5  26.000000  49593.777778         IT\n",
      "6  38.000000  67819.000000    Finance\n",
      "7  30.000000  69188.000000         HR\n",
      "8  30.000000  47568.000000         HR\n",
      "9  23.000000  49769.000000         IT\n",
      "\n",
      "✅ Cleaned dataset saved as 'dataset_filled.csv'\n"
     ]
    }
   ],
   "source": [
    "import pandas as pd\n",
    "import numpy as np\n",
    "import os\n",
    "\n",
    "# Step 1: Generate dataset with null values\n",
    "np.random.seed(42)\n",
    "data = {\n",
    "    'Age': np.random.randint(20, 40, size=10).astype(float),\n",
    "    'Salary': np.random.randint(30000, 80000, size=10).astype(float),\n",
    "    'Department': ['HR', 'Finance', 'IT', 'HR', np.nan, 'IT', 'Finance', 'HR', np.nan, 'IT']\n",
    "}\n",
    "\n",
    "# Introduce some NaN values\n",
    "data['Age'][2] = np.nan\n",
    "data['Salary'][5] = np.nan\n",
    "\n",
    "df = pd.DataFrame(data)\n",
    "\n",
    "# Step 2: Save to CSV\n",
    "df.to_csv(\"dataset_with_nulls.csv\", index=False)\n",
    "print(\"✅ CSV file with nulls saved at:\", os.getcwd())\n",
    "\n",
    "# Step 3: Read the CSV back\n",
    "df = pd.read_csv(\"dataset_with_nulls.csv\")\n",
    "print(\"\\n📋 Original Data with Nulls:\")\n",
    "print(df)\n",
    "\n",
    "# Step 4: Fill nulls\n",
    "df_mean_filled = df.copy()\n",
    "df_mean_filled['Age'] = df_mean_filled['Age'].fillna(df_mean_filled['Age'].mean())\n",
    "df_mean_filled['Salary'] = df_mean_filled['Salary'].fillna(df_mean_filled['Salary'].mean())\n",
    "df_mean_filled['Department'] = df_mean_filled['Department'].fillna(df_mean_filled['Department'].mode()[0])\n",
    "\n",
    "print(\"\\n🔄 Data After Filling Nulls (Mean/Mode):\")\n",
    "print(df_mean_filled)\n",
    "\n",
    "# Optional: Save the cleaned data\n",
    "df_mean_filled.to_csv(\"dataset_filled.csv\", index=False)\n",
    "print(\"\\n✅ Cleaned dataset saved as 'dataset_filled.csv'\")\n"
   ]
  },
  {
   "cell_type": "code",
   "execution_count": 16,
   "id": "bd482ed7-924b-4bb8-b1df-2687e428f129",
   "metadata": {},
   "outputs": [
    {
     "name": "stdout",
     "output_type": "stream",
     "text": [
      "Original Data: [ 10  12  11  13  14  12 100]\n",
      "Z-scores:      [0.47284084 0.40794112 0.44039098 0.37549125 0.34304139 0.40794112\n",
      " 2.44764669]\n",
      "Outliers:      []\n"
     ]
    }
   ],
   "source": [
    "import numpy as np\n",
    "from scipy import stats\n",
    "\n",
    "# Sample data (1D array)\n",
    "data = [10, 12, 11, 13, 14, 12, 100]  \n",
    "\n",
    "# Convert to NumPy array\n",
    "arr = np.array(data)\n",
    "\n",
    "# Step 1: Calculate Z-scores\n",
    "z_scores = np.abs(stats.zscore(arr))\n",
    "\n",
    "# Step 2: Define threshold\n",
    "threshold = 3\n",
    "\n",
    "# Step 3: Detect outliers\n",
    "outliers = arr[z_scores > threshold]\n",
    "\n",
    "# Step 4: Show results\n",
    "print(\"Original Data:\", arr)\n",
    "print(\"Z-scores:     \", z_scores)\n",
    "print(\"Outliers:     \", outliers)\n"
   ]
  },
  {
   "cell_type": "code",
   "execution_count": 14,
   "id": "9f040d99-2cc3-4194-8f27-7c6ff3b4a777",
   "metadata": {},
   "outputs": [
    {
     "name": "stdout",
     "output_type": "stream",
     "text": [
      "Original Data: [  10   11   10   12   11 1000]\n",
      "Z-scores:      [0.44938289 0.44667031 0.44938289 0.44395774 0.44667031 2.23606414]\n",
      "Outliers:      [1000]\n"
     ]
    }
   ],
   "source": [
    "import numpy as np\n",
    "from scipy import stats\n",
    "\n",
    "# Simple array with a clear outlier\n",
    "data = [10, 11, 10, 12, 11, 1000]  # 1000 is a big outlier\n",
    "\n",
    "# Convert to NumPy array\n",
    "arr = np.array(data)\n",
    "\n",
    "# Step 1: Calculate Z-scores\n",
    "z_scores = np.abs(stats.zscore(arr))\n",
    "\n",
    "# Step 2: Define threshold for outlier\n",
    "threshold = 2  # Set to 2 to catch 1000 as an outlier in small data\n",
    "\n",
    "# Step 3: Find indices where z-score > threshold\n",
    "outlier_indices = np.where(z_scores > threshold)\n",
    "\n",
    "# Step 4: Show results\n",
    "print(\"Original Data:\", arr)\n",
    "print(\"Z-scores:     \", z_scores)\n",
    "print(\"Outliers:     \", arr[outlier_indices])\n"
   ]
  },
  {
   "cell_type": "code",
   "execution_count": null,
   "id": "990c355c-1bca-42c7-b052-134881b52f5d",
   "metadata": {},
   "outputs": [],
   "source": []
  }
 ],
 "metadata": {
  "kernelspec": {
   "display_name": "Python [conda env:base] *",
   "language": "python",
   "name": "conda-base-py"
  },
  "language_info": {
   "codemirror_mode": {
    "name": "ipython",
    "version": 3
   },
   "file_extension": ".py",
   "mimetype": "text/x-python",
   "name": "python",
   "nbconvert_exporter": "python",
   "pygments_lexer": "ipython3",
   "version": "3.13.5"
  }
 },
 "nbformat": 4,
 "nbformat_minor": 5
}
