{
 "cells": [
  {
   "cell_type": "code",
   "execution_count": 1,
   "id": "acb01575-5e5b-401e-9958-71eb9aba7645",
   "metadata": {},
   "outputs": [
    {
     "name": "stderr",
     "output_type": "stream",
     "text": [
      "[nltk_data] Downloading package punkt to\n",
      "[nltk_data]     C:\\Users\\DELL\\AppData\\Roaming\\nltk_data...\n",
      "[nltk_data]   Package punkt is already up-to-date!\n",
      "[nltk_data] Downloading package stopwords to\n",
      "[nltk_data]     C:\\Users\\DELL\\AppData\\Roaming\\nltk_data...\n"
     ]
    },
    {
     "name": "stdout",
     "output_type": "stream",
     "text": [
      "                                       Review  \\\n",
      "0       I love this product, it is fantastic!   \n",
      "1  This is the worst service I have ever had.   \n",
      "2        Average experience, nothing special.   \n",
      "3               Highly recommend to everyone!   \n",
      "4              Terrible, would not buy again.   \n",
      "\n",
      "                            Cleaned_Review  \n",
      "0               [love, product, fantastic]  \n",
      "1                   [worst, service, ever]  \n",
      "2  [average, experience, nothing, special]  \n",
      "3            [highly, recommend, everyone]  \n",
      "4                   [terrible, would, buy]  \n"
     ]
    },
    {
     "name": "stderr",
     "output_type": "stream",
     "text": [
      "[nltk_data]   Unzipping corpora\\stopwords.zip.\n"
     ]
    }
   ],
   "source": [
    "import pandas as pd\n",
    "import nltk\n",
    "from nltk.corpus import stopwords\n",
    "from nltk.tokenize import word_tokenize\n",
    "\n",
    "# Download stopwords\n",
    "nltk.download('punkt')\n",
    "nltk.download('stopwords')\n",
    "\n",
    "# Example Dataset\n",
    "data = {'Review': [\n",
    "    'I love this product, it is fantastic!',\n",
    "    'This is the worst service I have ever had.',\n",
    "    'Average experience, nothing special.',\n",
    "    'Highly recommend to everyone!',\n",
    "    'Terrible, would not buy again.'\n",
    "]}\n",
    "\n",
    "df = pd.DataFrame(data)\n",
    "\n",
    "# Tokenization and Stopwords Removal\n",
    "stop_words = set(stopwords.words('english'))\n",
    "\n",
    "def clean_text(text):\n",
    "    tokens = word_tokenize(text.lower())  # Tokenization and lowercasing\n",
    "    tokens = [word for word in tokens if word.isalpha()]  # Remove punctuation/numbers\n",
    "    filtered = [word for word in tokens if word not in stop_words]\n",
    "    return filtered\n",
    "\n",
    "df['Cleaned_Review'] = df['Review'].apply(clean_text)\n",
    "\n",
    "print(df)\n"
   ]
  },
  {
   "cell_type": "code",
   "execution_count": 5,
   "id": "f5cf5440-aa81-499a-a26c-5e92e34f85b8",
   "metadata": {},
   "outputs": [
    {
     "name": "stdout",
     "output_type": "stream",
     "text": [
      "Model Accuracy: 25.00%\n",
      "\n"
     ]
    },
    {
     "name": "stdin",
     "output_type": "stream",
     "text": [
      "Enter a review (or type 'exit' to quit):  not satisfied\n"
     ]
    },
    {
     "name": "stdout",
     "output_type": "stream",
     "text": [
      "Predicted Sentiment: Positive 😊\n",
      "\n"
     ]
    },
    {
     "name": "stdin",
     "output_type": "stream",
     "text": [
      "Enter a review (or type 'exit' to quit):  exit\n"
     ]
    },
    {
     "name": "stdout",
     "output_type": "stream",
     "text": [
      "Exiting...\n"
     ]
    }
   ],
   "source": [
    "import pandas as pd\n",
    "from sklearn.feature_extraction.text import CountVectorizer\n",
    "from sklearn.linear_model import LogisticRegression\n",
    "from sklearn.model_selection import train_test_split\n",
    "from sklearn.metrics import accuracy_score\n",
    "\n",
    "# Step 1: Create Dataset\n",
    "data = {\n",
    "    'Review': [\n",
    "        'I absolutely loved this movie!',\n",
    "        'The product quality was terrible.',\n",
    "        'Not good, not bad, just okay.',\n",
    "        'Fantastic service, very happy!',\n",
    "        'Worst experience of my life.',\n",
    "        'I am satisfied with the purchase.',\n",
    "        'This is disappointing and a waste of money.',\n",
    "        'Highly recommend it to everyone.',\n",
    "        'Would not recommend this to anyone.',\n",
    "        'Best purchase I made this year!',\n",
    "        'Awful taste, never buying again.',\n",
    "        'Very pleasant experience.',\n",
    "        'It was a boring movie.',\n",
    "        'Excellent quality and speedy delivery.',\n",
    "        'Not worth the price at all.',\n",
    "        'Amazing food and quick service.',\n",
    "        'Bad customer service and rude staff.',\n",
    "        'Superb performance and great acting.',\n",
    "        'Terrible plot, I fell asleep.',\n",
    "        'Delighted with the results, five stars!'\n",
    "    ],\n",
    "    'Sentiment': [1, 0, 0, 1, 0, 1, 0, 1, 0, 1,\n",
    "                  0, 1, 0, 1, 0, 1, 0, 1, 0, 1]  # 1=Positive, 0=Negative\n",
    "}\n",
    "\n",
    "df = pd.DataFrame(data)\n",
    "\n",
    "# Step 2: Vectorization\n",
    "vectorizer = CountVectorizer(stop_words='english')\n",
    "X = vectorizer.fit_transform(df['Review'])\n",
    "y = df['Sentiment']\n",
    "\n",
    "# Step 3: Model Training\n",
    "X_train, X_test, y_train, y_test = train_test_split(X, y, test_size=0.2, random_state=42)\n",
    "model = LogisticRegression()\n",
    "model.fit(X_train, y_train)\n",
    "\n",
    "# Step 4: Model Accuracy\n",
    "y_pred = model.predict(X_test)\n",
    "accuracy = accuracy_score(y_test, y_pred)\n",
    "print(f\"Model Accuracy: {accuracy * 100:.2f}%\\n\")\n",
    "\n",
    "# Step 5: Manual Input Prediction\n",
    "while True:\n",
    "    user_input = input(\"Enter a review (or type 'exit' to quit): \")\n",
    "    if user_input.lower() == 'exit':\n",
    "        print(\"Exiting...\")\n",
    "        break\n",
    "    user_vector = vectorizer.transform([user_input])\n",
    "    prediction = model.predict(user_vector)[0]\n",
    "    sentiment = 'Positive 😊' if prediction == 1 else 'Negative 😞'\n",
    "    print(f\"Predicted Sentiment: {sentiment}\\n\")\n"
   ]
  },
  {
   "cell_type": "code",
   "execution_count": 7,
   "id": "5a6b9b54-fad5-44e9-9b74-5aceab315701",
   "metadata": {},
   "outputs": [
    {
     "name": "stdout",
     "output_type": "stream",
     "text": [
      "Optimized Model Accuracy: 83.33%\n",
      "\n"
     ]
    },
    {
     "name": "stdin",
     "output_type": "stream",
     "text": [
      "Enter a review (or type 'exit' to quit):  not satisfied\n"
     ]
    },
    {
     "name": "stdout",
     "output_type": "stream",
     "text": [
      "Predicted Sentiment: Negative 😞\n",
      "\n"
     ]
    },
    {
     "name": "stdin",
     "output_type": "stream",
     "text": [
      "Enter a review (or type 'exit' to quit):  happy with the purchase\n"
     ]
    },
    {
     "name": "stdout",
     "output_type": "stream",
     "text": [
      "Predicted Sentiment: Positive 😊\n",
      "\n"
     ]
    },
    {
     "name": "stdin",
     "output_type": "stream",
     "text": [
      "Enter a review (or type 'exit' to quit):  exit\n"
     ]
    },
    {
     "name": "stdout",
     "output_type": "stream",
     "text": [
      "Exiting...\n"
     ]
    }
   ],
   "source": [
    "import pandas as pd\n",
    "from sklearn.feature_extraction.text import TfidfVectorizer\n",
    "from sklearn.linear_model import LogisticRegression\n",
    "from sklearn.model_selection import train_test_split\n",
    "from sklearn.metrics import accuracy_score\n",
    "\n",
    "# Step 1: Dataset\n",
    "data = {\n",
    "    'Review': [\n",
    "        'I absolutely loved this movie!',\n",
    "        'The product quality was terrible.',\n",
    "        'Not good, not bad, just okay.',\n",
    "        'Fantastic service, very happy!',\n",
    "        'Worst experience of my life.',\n",
    "        'I am satisfied with the purchase.',\n",
    "        'This is disappointing and a waste of money.',\n",
    "        'Highly recommend it to everyone.',\n",
    "        'Would not recommend this to anyone.',\n",
    "        'Best purchase I made this year!',\n",
    "        'Awful taste, never buying again.',\n",
    "        'Very pleasant experience.',\n",
    "        'It was a boring movie.',\n",
    "        'Excellent quality and speedy delivery.',\n",
    "        'Not worth the price at all.',\n",
    "        'Amazing food and quick service.',\n",
    "        'Bad customer service and rude staff.',\n",
    "        'Superb performance and great acting.',\n",
    "        'Terrible plot, I fell asleep.',\n",
    "        'Delighted with the results, five stars!',\n",
    "        'Horrible product, totally dissatisfied.',\n",
    "        'Great value for money, very happy!',\n",
    "        'Extremely poor experience, would not return.',\n",
    "        'Loved the ambiance and the food!',\n",
    "        'Disgusting behavior from the staff.',\n",
    "        'Highly satisfying and pleasant stay.',\n",
    "        'Complete waste of money and time.',\n",
    "        'Outstanding quality and service.',\n",
    "        'Hated every minute of it.',\n",
    "        'Best in class, truly amazing!',\n",
    "    ],\n",
    "    'Sentiment': [\n",
    "        1,0,0,1,0,1,0,1,0,1,\n",
    "        0,1,0,1,0,1,0,1,0,1,\n",
    "        0,1,0,1,0,1,0,1,0,1\n",
    "    ]\n",
    "}\n",
    "\n",
    "df = pd.DataFrame(data)\n",
    "\n",
    "# Step 2: Vectorization (TF-IDF + Bigrams)\n",
    "vectorizer = TfidfVectorizer(stop_words='english', ngram_range=(1,2))\n",
    "X = vectorizer.fit_transform(df['Review'])\n",
    "y = df['Sentiment']\n",
    "\n",
    "# Step 3: Train-Test Split with Stratify\n",
    "X_train, X_test, y_train, y_test = train_test_split(\n",
    "    X, y, test_size=0.2, random_state=42, stratify=y)\n",
    "\n",
    "# Step 4: Model Training (higher iterations)\n",
    "model = LogisticRegression(max_iter=500)\n",
    "model.fit(X_train, y_train)\n",
    "\n",
    "# Step 5: Accuracy\n",
    "y_pred = model.predict(X_test)\n",
    "accuracy = accuracy_score(y_test, y_pred)\n",
    "print(f\"Optimized Model Accuracy: {accuracy * 100:.2f}%\\n\")\n",
    "\n",
    "# Step 6: Manual Sentiment Prediction\n",
    "while True:\n",
    "    user_input = input(\"Enter a review (or type 'exit' to quit): \")\n",
    "    if user_input.lower() == 'exit':\n",
    "        print(\"Exiting...\")\n",
    "        break\n",
    "    user_vector = vectorizer.transform([user_input])\n",
    "    prediction = model.predict(user_vector)[0]\n",
    "    sentiment = 'Positive 😊' if prediction == 1 else 'Negative 😞'\n",
    "    print(f\"Predicted Sentiment: {sentiment}\\n\")\n"
   ]
  },
  {
   "cell_type": "code",
   "execution_count": null,
   "id": "9d36775b-2d63-4f6a-b2e9-08f693eea198",
   "metadata": {},
   "outputs": [],
   "source": []
  }
 ],
 "metadata": {
  "kernelspec": {
   "display_name": "Python 3 (ipykernel)",
   "language": "python",
   "name": "python3"
  },
  "language_info": {
   "codemirror_mode": {
    "name": "ipython",
    "version": 3
   },
   "file_extension": ".py",
   "mimetype": "text/x-python",
   "name": "python",
   "nbconvert_exporter": "python",
   "pygments_lexer": "ipython3",
   "version": "3.11.7"
  }
 },
 "nbformat": 4,
 "nbformat_minor": 5
}
